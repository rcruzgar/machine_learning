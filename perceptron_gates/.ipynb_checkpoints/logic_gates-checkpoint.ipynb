{
 "cells": [
  {
   "cell_type": "code",
   "execution_count": 1,
   "metadata": {},
   "outputs": [],
   "source": [
    "from sklearn.linear_model import Perceptron\n",
    "import matplotlib.pyplot as plt\n",
    "import numpy as np\n",
    "from itertools import product"
   ]
  },
  {
   "cell_type": "code",
   "execution_count": 22,
   "metadata": {},
   "outputs": [],
   "source": [
    "data = [[0, 0], [1, 0], [0, 1], [1, 1]]\n",
    "labelsAND = [0, 0, 0, 1] # AND\n",
    "labelsXOR = [0, 1, 1, 0] # XOR\n",
    "labelsOR = [1, 0, 0, 0] # OR"
   ]
  },
  {
   "cell_type": "code",
   "execution_count": 23,
   "metadata": {},
   "outputs": [
    {
     "data": {
      "image/png": "[encoded data removed]",
      "text/plain": [
       "<Figure size 432x288 with 1 Axes>"
      ]
     },
     "metadata": {
      "needs_background": "light"
     },
     "output_type": "display_data"
    }
   ],
   "source": [
    "plt.scatter([point[0] for point in data], [point[1] for point in data])\n",
    "plt.show()"
   ]
  },
  {
   "cell_type": "code",
   "execution_count": 25,
   "metadata": {},
   "outputs": [
    {
     "name": "stdout",
     "output_type": "stream",
     "text": [
      "1.0\n",
      "0.5\n",
      "1.0\n"
     ]
    }
   ],
   "source": [
    "classifierAND = Perceptron(max_iter = 40)\n",
    "classifierXOR = Perceptron(max_iter = 40)\n",
    "classifierOR = Perceptron(max_iter = 40)\n",
    "\n",
    "classifierAND.fit(data, labelsAND)\n",
    "classifierXOR.fit(data, labelsXOR)\n",
    "classifierOR.fit(data, labelsOR)\n",
    "\n",
    "print(classifierAND.score(data, labelsAND))\n",
    "print(classifierXOR.score(data, labelsXOR))\n",
    "print(classifierOR.score(data, labelsOR))"
   ]
  },
  {
   "cell_type": "markdown",
   "metadata": {},
   "source": [
    "#### This method returns the distance those points are from the decision boundary. \n",
    "#### The closer the number is to 0, the closer that point is to the decision boundary."
   ]
  },
  {
   "cell_type": "code",
   "execution_count": 27,
   "metadata": {},
   "outputs": [
    {
     "name": "stdout",
     "output_type": "stream",
     "text": [
      "[-2.  2.  0.]\n",
      "[ 1. -3. -1.]\n"
     ]
    }
   ],
   "source": [
    "print(classifierAND.decision_function([[0, 0], [1, 1], [0.5, 0.5]]))\n",
    "print(classifierOR.decision_function([[0, 0], [1, 1], [0.5, 0.5]]))"
   ]
  },
  {
   "cell_type": "markdown",
   "metadata": {},
   "source": [
    "#### Let's create a grid of points to make a heat map that reveals the decision boundary."
   ]
  },
  {
   "cell_type": "code",
   "execution_count": 29,
   "metadata": {},
   "outputs": [
    {
     "name": "stdout",
     "output_type": "stream",
     "text": [
      "[-2.         -1.97979798 -1.95959596 ...  1.95959596  1.97979798\n",
      "  2.        ]\n"
     ]
    }
   ],
   "source": [
    "x_values = np.linspace(0, 1, 100)\n",
    "y_values = np.linspace(0, 1, 100)\n",
    "\n",
    "# product() will make all the possible combinations of X and y values\n",
    "point_grid = list(product(x_values, y_values))\n",
    "\n",
    "distancesAND = classifierAND.decision_function(point_grid)\n",
    "distancesXOR = classifierXOR.decision_function(point_grid)\n",
    "distancesOR = classifierOR.decision_function(point_grid)\n",
    "print(distancesAND)"
   ]
  },
  {
   "cell_type": "code",
   "execution_count": 30,
   "metadata": {},
   "outputs": [
    {
     "name": "stdout",
     "output_type": "stream",
     "text": [
      "[2.         1.97979798 1.95959596 ... 1.95959596 1.97979798 2.        ]\n"
     ]
    }
   ],
   "source": [
    "abs_distancesAND = abs(distancesAND)\n",
    "abs_distancesXOR = abs(distancesXOR)\n",
    "abs_distancesOR = abs(distancesOR)\n",
    "print(abs_distancesAND)"
   ]
  },
  {
   "cell_type": "markdown",
   "metadata": {},
   "source": [
    "#### Check how the decission boundary changes"
   ]
  },
  {
   "cell_type": "code",
   "execution_count": 46,
   "metadata": {},
   "outputs": [
    {
     "data": {
      "image/png": "[encoded data removed]",
      "text/plain": [
       "<Figure size 432x288 with 4 Axes>"
      ]
     },
     "metadata": {
      "needs_background": "light"
     },
     "output_type": "display_data"
    }
   ],
   "source": [
    "distances_matrixAND = np.reshape(abs_distancesAND, (100,100))\n",
    "distances_matrixXOR = np.reshape(abs_distancesXOR, (100,100))\n",
    "distances_matrixOR = np.reshape(abs_distancesOR, (100,100))\n",
    "\n",
    "plt.subplot(1, 3, 1)\n",
    "plt.pcolormesh(x_values, y_values, distances_matrixAND)\n",
    "\n",
    "plt.subplot(1, 3, 2)\n",
    "plt.pcolormesh(x_values, y_values, distances_matrixXOR)\n",
    "\n",
    "plt.subplot(1, 3, 3)\n",
    "plt.pcolormesh(x_values, y_values, distances_matrixOR)\n",
    "\n",
    "plt.colorbar(heatmap)\n",
    "plt.show()"
   ]
  },
  {
   "cell_type": "markdown",
   "metadata": {},
   "source": [
    "#### Perceptrons can’t solve problems that aren’t linearly separable. However, you can combine multiple perceptrons (neural nets) to get a solution for this."
   ]
  }
 ],
 "metadata": {
  "kernelspec": {
   "display_name": "Python 3",
   "language": "python",
   "name": "python3"
  },
  "language_info": {
   "codemirror_mode": {
    "name": "ipython",
    "version": 3
   },
   "file_extension": ".py",
   "mimetype": "text/x-python",
   "name": "python",
   "nbconvert_exporter": "python",
   "pygments_lexer": "ipython3",
   "version": "3.6.9"
  }
 },
 "nbformat": 4,
 "nbformat_minor": 2
}
